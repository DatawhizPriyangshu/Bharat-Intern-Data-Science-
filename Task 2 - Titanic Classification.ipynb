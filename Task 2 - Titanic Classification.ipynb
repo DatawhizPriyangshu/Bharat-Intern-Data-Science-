{
 "cells": [
  {
   "cell_type": "markdown",
   "id": "3da4d797",
   "metadata": {},
   "source": [
    "# Task 2: Titanic Classification:\n",
    "\n",
    "Make a system which tells whether the person will be save from sinking. What factors were\n",
    "most likely lead to success-socio-economic factors like status, age, gender and more."
   ]
  },
  {
   "cell_type": "code",
   "execution_count": 1,
   "id": "bb40af2f",
   "metadata": {},
   "outputs": [],
   "source": [
    "# importing necessary libaries\n",
    "\n",
    "import numpy as np\n",
    "import pandas as pd \n",
    "import matplotlib.pyplot as plt \n",
    "import seaborn as sns\n",
    "\n",
    "\n",
    "from sklearn.ensemble import RandomForestClassifier\n",
    "from sklearn.linear_model import LogisticRegression\n",
    "from sklearn.neighbors import KNeighborsClassifier\n",
    "from sklearn.tree import DecisionTreeClassifier\n",
    "from sklearn.naive_bayes import GaussianNB\n",
    "from sklearn.svm import SVC"
   ]
  },
  {
   "cell_type": "markdown",
   "id": "ba84c56b",
   "metadata": {},
   "source": [
    "### Loading the dataset"
   ]
  },
  {
   "cell_type": "code",
   "execution_count": 2,
   "id": "b8014e50",
   "metadata": {},
   "outputs": [],
   "source": [
    "dataset = pd.read_csv('Titanic-Dataset.csv')\n"
   ]
  },
  {
   "cell_type": "code",
   "execution_count": 3,
   "id": "59ea54a0",
   "metadata": {
    "scrolled": true
   },
   "outputs": [
    {
     "data": {
      "text/html": [
       "<div>\n",
       "<style scoped>\n",
       "    .dataframe tbody tr th:only-of-type {\n",
       "        vertical-align: middle;\n",
       "    }\n",
       "\n",
       "    .dataframe tbody tr th {\n",
       "        vertical-align: top;\n",
       "    }\n",
       "\n",
       "    .dataframe thead th {\n",
       "        text-align: right;\n",
       "    }\n",
       "</style>\n",
       "<table border=\"1\" class=\"dataframe\">\n",
       "  <thead>\n",
       "    <tr style=\"text-align: right;\">\n",
       "      <th></th>\n",
       "      <th>PassengerId</th>\n",
       "      <th>Survived</th>\n",
       "      <th>Pclass</th>\n",
       "      <th>Name</th>\n",
       "      <th>Sex</th>\n",
       "      <th>Age</th>\n",
       "      <th>SibSp</th>\n",
       "      <th>Parch</th>\n",
       "      <th>Ticket</th>\n",
       "      <th>Fare</th>\n",
       "      <th>Cabin</th>\n",
       "      <th>Embarked</th>\n",
       "    </tr>\n",
       "  </thead>\n",
       "  <tbody>\n",
       "    <tr>\n",
       "      <th>0</th>\n",
       "      <td>1</td>\n",
       "      <td>0</td>\n",
       "      <td>3</td>\n",
       "      <td>Braund, Mr. Owen Harris</td>\n",
       "      <td>male</td>\n",
       "      <td>22.0</td>\n",
       "      <td>1</td>\n",
       "      <td>0</td>\n",
       "      <td>A/5 21171</td>\n",
       "      <td>7.2500</td>\n",
       "      <td>NaN</td>\n",
       "      <td>S</td>\n",
       "    </tr>\n",
       "    <tr>\n",
       "      <th>1</th>\n",
       "      <td>2</td>\n",
       "      <td>1</td>\n",
       "      <td>1</td>\n",
       "      <td>Cumings, Mrs. John Bradley (Florence Briggs Th...</td>\n",
       "      <td>female</td>\n",
       "      <td>38.0</td>\n",
       "      <td>1</td>\n",
       "      <td>0</td>\n",
       "      <td>PC 17599</td>\n",
       "      <td>71.2833</td>\n",
       "      <td>C85</td>\n",
       "      <td>C</td>\n",
       "    </tr>\n",
       "    <tr>\n",
       "      <th>2</th>\n",
       "      <td>3</td>\n",
       "      <td>1</td>\n",
       "      <td>3</td>\n",
       "      <td>Heikkinen, Miss. Laina</td>\n",
       "      <td>female</td>\n",
       "      <td>26.0</td>\n",
       "      <td>0</td>\n",
       "      <td>0</td>\n",
       "      <td>STON/O2. 3101282</td>\n",
       "      <td>7.9250</td>\n",
       "      <td>NaN</td>\n",
       "      <td>S</td>\n",
       "    </tr>\n",
       "    <tr>\n",
       "      <th>3</th>\n",
       "      <td>4</td>\n",
       "      <td>1</td>\n",
       "      <td>1</td>\n",
       "      <td>Futrelle, Mrs. Jacques Heath (Lily May Peel)</td>\n",
       "      <td>female</td>\n",
       "      <td>35.0</td>\n",
       "      <td>1</td>\n",
       "      <td>0</td>\n",
       "      <td>113803</td>\n",
       "      <td>53.1000</td>\n",
       "      <td>C123</td>\n",
       "      <td>S</td>\n",
       "    </tr>\n",
       "    <tr>\n",
       "      <th>4</th>\n",
       "      <td>5</td>\n",
       "      <td>0</td>\n",
       "      <td>3</td>\n",
       "      <td>Allen, Mr. William Henry</td>\n",
       "      <td>male</td>\n",
       "      <td>35.0</td>\n",
       "      <td>0</td>\n",
       "      <td>0</td>\n",
       "      <td>373450</td>\n",
       "      <td>8.0500</td>\n",
       "      <td>NaN</td>\n",
       "      <td>S</td>\n",
       "    </tr>\n",
       "  </tbody>\n",
       "</table>\n",
       "</div>"
      ],
      "text/plain": [
       "   PassengerId  Survived  Pclass  \\\n",
       "0            1         0       3   \n",
       "1            2         1       1   \n",
       "2            3         1       3   \n",
       "3            4         1       1   \n",
       "4            5         0       3   \n",
       "\n",
       "                                                Name     Sex   Age  SibSp  \\\n",
       "0                            Braund, Mr. Owen Harris    male  22.0      1   \n",
       "1  Cumings, Mrs. John Bradley (Florence Briggs Th...  female  38.0      1   \n",
       "2                             Heikkinen, Miss. Laina  female  26.0      0   \n",
       "3       Futrelle, Mrs. Jacques Heath (Lily May Peel)  female  35.0      1   \n",
       "4                           Allen, Mr. William Henry    male  35.0      0   \n",
       "\n",
       "   Parch            Ticket     Fare Cabin Embarked  \n",
       "0      0         A/5 21171   7.2500   NaN        S  \n",
       "1      0          PC 17599  71.2833   C85        C  \n",
       "2      0  STON/O2. 3101282   7.9250   NaN        S  \n",
       "3      0            113803  53.1000  C123        S  \n",
       "4      0            373450   8.0500   NaN        S  "
      ]
     },
     "execution_count": 3,
     "metadata": {},
     "output_type": "execute_result"
    }
   ],
   "source": [
    "dataset.head()"
   ]
  },
  {
   "cell_type": "markdown",
   "id": "e7e91db6",
   "metadata": {},
   "source": [
    "The Titanic survival dataset typically contains information about passengers who were aboard the   Titanic, including whether they survived or not. Here's a brief explanation of each feature in the dataset:\n",
    "\n",
    "    'PassengerId': This is a unique identifier for each passenger and is used to distinguish one     \n",
    "                   passenger from another.\n",
    "\n",
    "    'Survived': This binary feature indicates whether a passenger survived or not. It has two possible                 values:        0: The passenger did not survive.\n",
    "                               1: The passenger survived.\n",
    "\n",
    "    'Pclass': This feature represents the passenger class, which is a proxy for socio-economic status.     It has three possible values:  1: First class   2: Second class   3: Third class\n",
    "\n",
    "    'Name': The name of the passenger, including their title and surname.\n",
    "\n",
    "    'Sex': The gender of the passenger, which can be 'male' or 'female'.\n",
    "\n",
    "    'Age': The age of the passenger, represented as a numerical value.\n",
    "\n",
    "    'SibSp': This feature represents the number of siblings or spouses (i.e., family members) aboard        the Titanic with the passenger.\n",
    "\n",
    "    'Parch': The number of parents or children aboard the Titanic with the passenger.\n",
    "\n",
    "    'Ticket': The ticket number issued to the passenger.\n",
    "\n",
    "    'Fare': The fare paid by the passenger for the ticket.\n",
    "\n",
    "    'Cabin': The cabin number where the passenger stayed. This feature may have missing values.\n",
    "\n",
    "    'Embarked': The port of embarkation for the passenger. It has three possible values:                               'C': Cherbourg  'Q': Queenstown  'S': Southampton\n",
    "    \n",
    "     Here Survived is our Target variable."
   ]
  },
  {
   "cell_type": "markdown",
   "id": "88fdaff7",
   "metadata": {},
   "source": [
    "### EDA "
   ]
  },
  {
   "cell_type": "code",
   "execution_count": 4,
   "id": "0926e3a9",
   "metadata": {},
   "outputs": [
    {
     "data": {
      "text/plain": [
       "(891, 12)"
      ]
     },
     "execution_count": 4,
     "metadata": {},
     "output_type": "execute_result"
    }
   ],
   "source": [
    "dataset.shape"
   ]
  },
  {
   "cell_type": "code",
   "execution_count": 5,
   "id": "d36d6116",
   "metadata": {},
   "outputs": [
    {
     "data": {
      "text/plain": [
       "Index(['PassengerId', 'Survived', 'Pclass', 'Name', 'Sex', 'Age', 'SibSp',\n",
       "       'Parch', 'Ticket', 'Fare', 'Cabin', 'Embarked'],\n",
       "      dtype='object')"
      ]
     },
     "execution_count": 5,
     "metadata": {},
     "output_type": "execute_result"
    }
   ],
   "source": [
    "dataset.columns"
   ]
  },
  {
   "cell_type": "code",
   "execution_count": 6,
   "id": "6edfc569",
   "metadata": {},
   "outputs": [
    {
     "name": "stdout",
     "output_type": "stream",
     "text": [
      "<class 'pandas.core.frame.DataFrame'>\n",
      "RangeIndex: 891 entries, 0 to 890\n",
      "Data columns (total 12 columns):\n",
      " #   Column       Non-Null Count  Dtype  \n",
      "---  ------       --------------  -----  \n",
      " 0   PassengerId  891 non-null    int64  \n",
      " 1   Survived     891 non-null    int64  \n",
      " 2   Pclass       891 non-null    int64  \n",
      " 3   Name         891 non-null    object \n",
      " 4   Sex          891 non-null    object \n",
      " 5   Age          714 non-null    float64\n",
      " 6   SibSp        891 non-null    int64  \n",
      " 7   Parch        891 non-null    int64  \n",
      " 8   Ticket       891 non-null    object \n",
      " 9   Fare         891 non-null    float64\n",
      " 10  Cabin        204 non-null    object \n",
      " 11  Embarked     889 non-null    object \n",
      "dtypes: float64(2), int64(5), object(5)\n",
      "memory usage: 83.7+ KB\n"
     ]
    }
   ],
   "source": [
    "dataset.info()"
   ]
  },
  {
   "cell_type": "code",
   "execution_count": 7,
   "id": "0051d369",
   "metadata": {},
   "outputs": [
    {
     "data": {
      "text/plain": [
       "PassengerId      0\n",
       "Survived         0\n",
       "Pclass           0\n",
       "Name             0\n",
       "Sex              0\n",
       "Age            177\n",
       "SibSp            0\n",
       "Parch            0\n",
       "Ticket           0\n",
       "Fare             0\n",
       "Cabin          687\n",
       "Embarked         2\n",
       "dtype: int64"
      ]
     },
     "execution_count": 7,
     "metadata": {},
     "output_type": "execute_result"
    }
   ],
   "source": [
    "dataset.isnull().sum()"
   ]
  },
  {
   "cell_type": "code",
   "execution_count": 8,
   "id": "a4dc9a19",
   "metadata": {},
   "outputs": [],
   "source": [
    "# dropping this featurse as they have little to no significance on target var\n",
    "\n",
    "col_to_drop = ['PassengerId','Cabin', 'Ticket','Name']\n",
    "dataset.drop(col_to_drop, axis=1, inplace = True)\n",
    "\n"
   ]
  },
  {
   "cell_type": "code",
   "execution_count": 9,
   "id": "4fa1aafc",
   "metadata": {},
   "outputs": [
    {
     "data": {
      "text/html": [
       "<div>\n",
       "<style scoped>\n",
       "    .dataframe tbody tr th:only-of-type {\n",
       "        vertical-align: middle;\n",
       "    }\n",
       "\n",
       "    .dataframe tbody tr th {\n",
       "        vertical-align: top;\n",
       "    }\n",
       "\n",
       "    .dataframe thead th {\n",
       "        text-align: right;\n",
       "    }\n",
       "</style>\n",
       "<table border=\"1\" class=\"dataframe\">\n",
       "  <thead>\n",
       "    <tr style=\"text-align: right;\">\n",
       "      <th></th>\n",
       "      <th>Survived</th>\n",
       "      <th>Pclass</th>\n",
       "      <th>Age</th>\n",
       "      <th>SibSp</th>\n",
       "      <th>Parch</th>\n",
       "      <th>Fare</th>\n",
       "    </tr>\n",
       "  </thead>\n",
       "  <tbody>\n",
       "    <tr>\n",
       "      <th>count</th>\n",
       "      <td>891.000000</td>\n",
       "      <td>891.000000</td>\n",
       "      <td>714.000000</td>\n",
       "      <td>891.000000</td>\n",
       "      <td>891.000000</td>\n",
       "      <td>891.000000</td>\n",
       "    </tr>\n",
       "    <tr>\n",
       "      <th>mean</th>\n",
       "      <td>0.383838</td>\n",
       "      <td>2.308642</td>\n",
       "      <td>29.699118</td>\n",
       "      <td>0.523008</td>\n",
       "      <td>0.381594</td>\n",
       "      <td>32.204208</td>\n",
       "    </tr>\n",
       "    <tr>\n",
       "      <th>std</th>\n",
       "      <td>0.486592</td>\n",
       "      <td>0.836071</td>\n",
       "      <td>14.526497</td>\n",
       "      <td>1.102743</td>\n",
       "      <td>0.806057</td>\n",
       "      <td>49.693429</td>\n",
       "    </tr>\n",
       "    <tr>\n",
       "      <th>min</th>\n",
       "      <td>0.000000</td>\n",
       "      <td>1.000000</td>\n",
       "      <td>0.420000</td>\n",
       "      <td>0.000000</td>\n",
       "      <td>0.000000</td>\n",
       "      <td>0.000000</td>\n",
       "    </tr>\n",
       "    <tr>\n",
       "      <th>25%</th>\n",
       "      <td>0.000000</td>\n",
       "      <td>2.000000</td>\n",
       "      <td>20.125000</td>\n",
       "      <td>0.000000</td>\n",
       "      <td>0.000000</td>\n",
       "      <td>7.910400</td>\n",
       "    </tr>\n",
       "    <tr>\n",
       "      <th>50%</th>\n",
       "      <td>0.000000</td>\n",
       "      <td>3.000000</td>\n",
       "      <td>28.000000</td>\n",
       "      <td>0.000000</td>\n",
       "      <td>0.000000</td>\n",
       "      <td>14.454200</td>\n",
       "    </tr>\n",
       "    <tr>\n",
       "      <th>75%</th>\n",
       "      <td>1.000000</td>\n",
       "      <td>3.000000</td>\n",
       "      <td>38.000000</td>\n",
       "      <td>1.000000</td>\n",
       "      <td>0.000000</td>\n",
       "      <td>31.000000</td>\n",
       "    </tr>\n",
       "    <tr>\n",
       "      <th>max</th>\n",
       "      <td>1.000000</td>\n",
       "      <td>3.000000</td>\n",
       "      <td>80.000000</td>\n",
       "      <td>8.000000</td>\n",
       "      <td>6.000000</td>\n",
       "      <td>512.329200</td>\n",
       "    </tr>\n",
       "  </tbody>\n",
       "</table>\n",
       "</div>"
      ],
      "text/plain": [
       "         Survived      Pclass         Age       SibSp       Parch        Fare\n",
       "count  891.000000  891.000000  714.000000  891.000000  891.000000  891.000000\n",
       "mean     0.383838    2.308642   29.699118    0.523008    0.381594   32.204208\n",
       "std      0.486592    0.836071   14.526497    1.102743    0.806057   49.693429\n",
       "min      0.000000    1.000000    0.420000    0.000000    0.000000    0.000000\n",
       "25%      0.000000    2.000000   20.125000    0.000000    0.000000    7.910400\n",
       "50%      0.000000    3.000000   28.000000    0.000000    0.000000   14.454200\n",
       "75%      1.000000    3.000000   38.000000    1.000000    0.000000   31.000000\n",
       "max      1.000000    3.000000   80.000000    8.000000    6.000000  512.329200"
      ]
     },
     "execution_count": 9,
     "metadata": {},
     "output_type": "execute_result"
    }
   ],
   "source": [
    "# this gives us a descriptive statistics of the numerical features\n",
    "\n",
    "dataset.describe()"
   ]
  },
  {
   "cell_type": "code",
   "execution_count": 10,
   "id": "0fe1b23f",
   "metadata": {},
   "outputs": [
    {
     "data": {
      "text/plain": [
       "0    549\n",
       "1    342\n",
       "Name: Survived, dtype: int64"
      ]
     },
     "execution_count": 10,
     "metadata": {},
     "output_type": "execute_result"
    }
   ],
   "source": [
    "dataset['Survived'].value_counts()"
   ]
  },
  {
   "cell_type": "code",
   "execution_count": 11,
   "id": "9de6cfdd",
   "metadata": {},
   "outputs": [
    {
     "data": {
      "text/html": [
       "<div>\n",
       "<style scoped>\n",
       "    .dataframe tbody tr th:only-of-type {\n",
       "        vertical-align: middle;\n",
       "    }\n",
       "\n",
       "    .dataframe tbody tr th {\n",
       "        vertical-align: top;\n",
       "    }\n",
       "\n",
       "    .dataframe thead th {\n",
       "        text-align: right;\n",
       "    }\n",
       "</style>\n",
       "<table border=\"1\" class=\"dataframe\">\n",
       "  <thead>\n",
       "    <tr style=\"text-align: right;\">\n",
       "      <th></th>\n",
       "      <th>No of unique values</th>\n",
       "    </tr>\n",
       "  </thead>\n",
       "  <tbody>\n",
       "    <tr>\n",
       "      <th>Survived</th>\n",
       "      <td>2</td>\n",
       "    </tr>\n",
       "    <tr>\n",
       "      <th>Pclass</th>\n",
       "      <td>3</td>\n",
       "    </tr>\n",
       "    <tr>\n",
       "      <th>Sex</th>\n",
       "      <td>2</td>\n",
       "    </tr>\n",
       "    <tr>\n",
       "      <th>Age</th>\n",
       "      <td>88</td>\n",
       "    </tr>\n",
       "    <tr>\n",
       "      <th>SibSp</th>\n",
       "      <td>7</td>\n",
       "    </tr>\n",
       "    <tr>\n",
       "      <th>Parch</th>\n",
       "      <td>7</td>\n",
       "    </tr>\n",
       "    <tr>\n",
       "      <th>Fare</th>\n",
       "      <td>248</td>\n",
       "    </tr>\n",
       "    <tr>\n",
       "      <th>Embarked</th>\n",
       "      <td>3</td>\n",
       "    </tr>\n",
       "  </tbody>\n",
       "</table>\n",
       "</div>"
      ],
      "text/plain": [
       "          No of unique values \n",
       "Survived                     2\n",
       "Pclass                       3\n",
       "Sex                          2\n",
       "Age                         88\n",
       "SibSp                        7\n",
       "Parch                        7\n",
       "Fare                       248\n",
       "Embarked                     3"
      ]
     },
     "execution_count": 11,
     "metadata": {},
     "output_type": "execute_result"
    }
   ],
   "source": [
    "dataset.nunique().to_frame(\"No of unique values \")"
   ]
  },
  {
   "cell_type": "code",
   "execution_count": 12,
   "id": "3b09229f",
   "metadata": {},
   "outputs": [
    {
     "name": "stderr",
     "output_type": "stream",
     "text": [
      "C:\\Users\\Priyangshu\\AppData\\Local\\Temp\\ipykernel_6452\\966569924.py:2: FutureWarning: The default value of numeric_only in DataFrame.corr is deprecated. In a future version, it will default to False. Select only valid columns or specify the value of numeric_only to silence this warning.\n",
      "  sns.heatmap(dataset.corr(), annot=True,cmap='coolwarm')\n"
     ]
    },
    {
     "data": {
      "image/png": "[encoded data removed]",
      "text/plain": [
       "<Figure size 700x500 with 2 Axes>"
      ]
     },
     "metadata": {},
     "output_type": "display_data"
    }
   ],
   "source": [
    "\n",
    "plt.figure(figsize=(7,5))\n",
    "sns.heatmap(dataset.corr(), annot=True,cmap='coolwarm')\n",
    "plt.show()"
   ]
  },
  {
   "cell_type": "code",
   "execution_count": 13,
   "id": "c876b19d",
   "metadata": {},
   "outputs": [],
   "source": [
    "# changing datatype of Fare from float to int\n",
    "dataset['Fare'] = dataset['Fare'].astype(int)"
   ]
  },
  {
   "cell_type": "code",
   "execution_count": 14,
   "id": "1affb4f4",
   "metadata": {},
   "outputs": [
    {
     "data": {
      "text/plain": [
       "<seaborn.axisgrid.FacetGrid at 0x1496ae844c0>"
      ]
     },
     "execution_count": 14,
     "metadata": {},
     "output_type": "execute_result"
    },
    {
     "data": {
      "text/plain": [
       "<Figure size 800x600 with 0 Axes>"
      ]
     },
     "metadata": {},
     "output_type": "display_data"
    },
    {
     "data": {
      "image/png": "[encoded data removed]",
      "text/plain": [
       "<Figure size 500x500 with 1 Axes>"
      ]
     },
     "metadata": {},
     "output_type": "display_data"
    }
   ],
   "source": [
    "plt.figure(figsize=(8, 6))     #(width,height)\n",
    "\n",
    "sns.displot(dataset['Fare'],kde=True, stat='density', kde_kws=dict(cut=3))"
   ]
  },
  {
   "cell_type": "markdown",
   "id": "601ceab2",
   "metadata": {},
   "source": [
    "#### Gender"
   ]
  },
  {
   "cell_type": "code",
   "execution_count": 15,
   "id": "7c1ac8f5",
   "metadata": {},
   "outputs": [
    {
     "data": {
      "text/plain": [
       "<Axes: xlabel='Sex', ylabel='Survived'>"
      ]
     },
     "execution_count": 15,
     "metadata": {},
     "output_type": "execute_result"
    },
    {
     "data": {
      "image/png": "[encoded data removed]",
      "text/plain": [
       "<Figure size 640x480 with 1 Axes>"
      ]
     },
     "metadata": {},
     "output_type": "display_data"
    }
   ],
   "source": [
    "sns.barplot(x='Sex', y='Survived',data= dataset)"
   ]
  },
  {
   "cell_type": "markdown",
   "id": "1aa6b45f",
   "metadata": {},
   "source": [
    "#### Passenger class"
   ]
  },
  {
   "cell_type": "code",
   "execution_count": 16,
   "id": "dab4a864",
   "metadata": {},
   "outputs": [
    {
     "data": {
      "text/html": [
       "<div>\n",
       "<style scoped>\n",
       "    .dataframe tbody tr th:only-of-type {\n",
       "        vertical-align: middle;\n",
       "    }\n",
       "\n",
       "    .dataframe tbody tr th {\n",
       "        vertical-align: top;\n",
       "    }\n",
       "\n",
       "    .dataframe thead th {\n",
       "        text-align: right;\n",
       "    }\n",
       "</style>\n",
       "<table border=\"1\" class=\"dataframe\">\n",
       "  <thead>\n",
       "    <tr style=\"text-align: right;\">\n",
       "      <th></th>\n",
       "      <th>Pclass</th>\n",
       "      <th>Survived</th>\n",
       "      <th>Survived_percentage</th>\n",
       "    </tr>\n",
       "  </thead>\n",
       "  <tbody>\n",
       "    <tr>\n",
       "      <th>0</th>\n",
       "      <td>1</td>\n",
       "      <td>0.630</td>\n",
       "      <td>46.819</td>\n",
       "    </tr>\n",
       "    <tr>\n",
       "      <th>1</th>\n",
       "      <td>2</td>\n",
       "      <td>0.473</td>\n",
       "      <td>35.159</td>\n",
       "    </tr>\n",
       "    <tr>\n",
       "      <th>2</th>\n",
       "      <td>3</td>\n",
       "      <td>0.242</td>\n",
       "      <td>18.022</td>\n",
       "    </tr>\n",
       "  </tbody>\n",
       "</table>\n",
       "</div>"
      ],
      "text/plain": [
       "   Pclass  Survived  Survived_percentage\n",
       "0       1     0.630               46.819\n",
       "1       2     0.473               35.159\n",
       "2       3     0.242               18.022"
      ]
     },
     "execution_count": 16,
     "metadata": {},
     "output_type": "execute_result"
    }
   ],
   "source": [
    "\n",
    "result = dataset.groupby('Pclass')['Survived'].mean().reset_index()\n",
    "\n",
    "result['Survived_percentage'] = (result['Survived'] / result['Survived'].sum())*100\n",
    "\n",
    "result.round(3)\n"
   ]
  },
  {
   "cell_type": "code",
   "execution_count": 17,
   "id": "57abc818",
   "metadata": {},
   "outputs": [
    {
     "data": {
      "text/plain": [
       "<seaborn.axisgrid.FacetGrid at 0x1496bbe2380>"
      ]
     },
     "execution_count": 17,
     "metadata": {},
     "output_type": "execute_result"
    },
    {
     "data": {
      "text/plain": [
       "<Figure size 800x400 with 0 Axes>"
      ]
     },
     "metadata": {},
     "output_type": "display_data"
    },
    {
     "data": {
      "image/png": "[encoded data removed]",
      "text/plain": [
       "<Figure size 800x800 with 1 Axes>"
      ]
     },
     "metadata": {},
     "output_type": "display_data"
    }
   ],
   "source": [
    "plt.figure(figsize=(8, 4))\n",
    "pclass = sns.catplot(x=\"Pclass\", y=\"Survived\", data=dataset, kind=\"bar\", height=8)\n",
    "pclass.set_ylabels(\"Survival Probability\")"
   ]
  },
  {
   "cell_type": "markdown",
   "id": "ea80d644",
   "metadata": {},
   "source": [
    "The first class passengers have the more chance of surviving than 2nd and 3rd class"
   ]
  },
  {
   "cell_type": "markdown",
   "id": "2d8d8f56",
   "metadata": {},
   "source": [
    "\n",
    "\n",
    "#### Pclass vs Survived by Sex"
   ]
  },
  {
   "cell_type": "code",
   "execution_count": 18,
   "id": "42c5c939",
   "metadata": {},
   "outputs": [
    {
     "data": {
      "image/png": "[encoded data removed]",
      "text/plain": [
       "<Figure size 698x600 with 1 Axes>"
      ]
     },
     "metadata": {},
     "output_type": "display_data"
    }
   ],
   "source": [
    "\n",
    "g = sns.catplot(x=\"Pclass\", y=\"Survived\", hue=\"Sex\", data=dataset, height=6, kind=\"bar\")\n",
    "g = g.set_ylabels(\"survival probability\")\n",
    "\n",
    "import warnings\n",
    "warnings.filterwarnings(\"ignore\")"
   ]
  },
  {
   "cell_type": "markdown",
   "id": "e5a70719",
   "metadata": {},
   "source": [
    "#### Imputing the missing values in age column with the median "
   ]
  },
  {
   "cell_type": "code",
   "execution_count": 19,
   "id": "09de98ef",
   "metadata": {},
   "outputs": [],
   "source": [
    "\n",
    "median_age = dataset['Age'].median()\n",
    "\n",
    "# Fill missing values in the 'Age' column with the median age\n",
    "dataset['Age'].fillna(median_age, inplace=True)"
   ]
  },
  {
   "cell_type": "code",
   "execution_count": 20,
   "id": "953dc603",
   "metadata": {},
   "outputs": [
    {
     "data": {
      "image/png": "[encoded data removed]",
      "text/plain": [
       "<Figure size 1400x700 with 2 Axes>"
      ]
     },
     "metadata": {},
     "output_type": "display_data"
    }
   ],
   "source": [
    "age_dist= sns.FacetGrid(dataset, col = 'Survived', height=7)\n",
    "age_dist = age_dist.map(sns.distplot, \"Age\")\n",
    "age_dist = age_dist.set_ylabels(\"survival probability\")"
   ]
  },
  {
   "cell_type": "markdown",
   "id": "71488b70",
   "metadata": {},
   "source": [
    "#### From this distribution we can conclude that  children in the age group of 0- 10 years and people in the age group of 20-40 years has relatively higher chance of surviving"
   ]
  },
  {
   "cell_type": "markdown",
   "id": "d6c8c5e7",
   "metadata": {},
   "source": [
    "### Feature Engineering "
   ]
  },
  {
   "cell_type": "code",
   "execution_count": 21,
   "id": "0990f987",
   "metadata": {},
   "outputs": [
    {
     "data": {
      "text/plain": [
       "array([1, 0, 3, 4, 2, 5, 8], dtype=int64)"
      ]
     },
     "execution_count": 21,
     "metadata": {},
     "output_type": "execute_result"
    }
   ],
   "source": [
    "# unique values of no of sibling + spouses present in the ship\n",
    "dataset['SibSp'].unique() \n"
   ]
  },
  {
   "cell_type": "code",
   "execution_count": 22,
   "id": "ee278a7b",
   "metadata": {},
   "outputs": [
    {
     "data": {
      "text/plain": [
       "array([0, 1, 2, 5, 3, 4, 6], dtype=int64)"
      ]
     },
     "execution_count": 22,
     "metadata": {},
     "output_type": "execute_result"
    }
   ],
   "source": [
    "# unique values of no of parents + children present in the ship\n",
    "dataset['Parch'].unique()"
   ]
  },
  {
   "cell_type": "code",
   "execution_count": 23,
   "id": "0b06cf4b",
   "metadata": {},
   "outputs": [
    {
     "data": {
      "text/html": [
       "<div>\n",
       "<style scoped>\n",
       "    .dataframe tbody tr th:only-of-type {\n",
       "        vertical-align: middle;\n",
       "    }\n",
       "\n",
       "    .dataframe tbody tr th {\n",
       "        vertical-align: top;\n",
       "    }\n",
       "\n",
       "    .dataframe thead th {\n",
       "        text-align: right;\n",
       "    }\n",
       "</style>\n",
       "<table border=\"1\" class=\"dataframe\">\n",
       "  <thead>\n",
       "    <tr style=\"text-align: right;\">\n",
       "      <th></th>\n",
       "      <th>FamilySize</th>\n",
       "      <th>Survived</th>\n",
       "      <th>Survived_percentage</th>\n",
       "    </tr>\n",
       "  </thead>\n",
       "  <tbody>\n",
       "    <tr>\n",
       "      <th>3</th>\n",
       "      <td>4</td>\n",
       "      <td>0.724</td>\n",
       "      <td>25.601</td>\n",
       "    </tr>\n",
       "    <tr>\n",
       "      <th>2</th>\n",
       "      <td>3</td>\n",
       "      <td>0.578</td>\n",
       "      <td>20.449</td>\n",
       "    </tr>\n",
       "    <tr>\n",
       "      <th>1</th>\n",
       "      <td>2</td>\n",
       "      <td>0.553</td>\n",
       "      <td>19.543</td>\n",
       "    </tr>\n",
       "    <tr>\n",
       "      <th>6</th>\n",
       "      <td>7</td>\n",
       "      <td>0.333</td>\n",
       "      <td>11.784</td>\n",
       "    </tr>\n",
       "    <tr>\n",
       "      <th>0</th>\n",
       "      <td>1</td>\n",
       "      <td>0.304</td>\n",
       "      <td>10.731</td>\n",
       "    </tr>\n",
       "    <tr>\n",
       "      <th>4</th>\n",
       "      <td>5</td>\n",
       "      <td>0.200</td>\n",
       "      <td>7.071</td>\n",
       "    </tr>\n",
       "    <tr>\n",
       "      <th>5</th>\n",
       "      <td>6</td>\n",
       "      <td>0.136</td>\n",
       "      <td>4.821</td>\n",
       "    </tr>\n",
       "    <tr>\n",
       "      <th>7</th>\n",
       "      <td>8</td>\n",
       "      <td>0.000</td>\n",
       "      <td>0.000</td>\n",
       "    </tr>\n",
       "    <tr>\n",
       "      <th>8</th>\n",
       "      <td>11</td>\n",
       "      <td>0.000</td>\n",
       "      <td>0.000</td>\n",
       "    </tr>\n",
       "  </tbody>\n",
       "</table>\n",
       "</div>"
      ],
      "text/plain": [
       "   FamilySize  Survived  Survived_percentage\n",
       "3           4     0.724               25.601\n",
       "2           3     0.578               20.449\n",
       "1           2     0.553               19.543\n",
       "6           7     0.333               11.784\n",
       "0           1     0.304               10.731\n",
       "4           5     0.200                7.071\n",
       "5           6     0.136                4.821\n",
       "7           8     0.000                0.000\n",
       "8          11     0.000                0.000"
      ]
     },
     "execution_count": 23,
     "metadata": {},
     "output_type": "execute_result"
    }
   ],
   "source": [
    "dataset['FamilySize'] = dataset['SibSp'] + dataset['Parch'] + 1\n",
    "\n",
    "result= dataset.groupby('FamilySize')['Survived'].mean().reset_index().sort_values(\n",
    "    by='Survived', ascending=False)\n",
    "\n",
    "\n",
    "result['Survived_percentage'] = (result['Survived'] / result['Survived'].sum())*100\n",
    "\n",
    "result.round(3)\n"
   ]
  },
  {
   "cell_type": "code",
   "execution_count": 24,
   "id": "12626ab9",
   "metadata": {},
   "outputs": [
    {
     "data": {
      "image/png": "[encoded data removed]",
      "text/plain": [
       "<Figure size 1000x600 with 1 Axes>"
      ]
     },
     "metadata": {},
     "output_type": "display_data"
    }
   ],
   "source": [
    "plt.figure(figsize=(10, 6))\n",
    "plt.bar(result['FamilySize'], result['Survived_percentage'], color='skyblue')\n",
    "plt.xlabel('Family Size')\n",
    "plt.ylabel('Survived Percentage')\n",
    "plt.title('Survived Percentage by Family Size')\n",
    "plt.xticks(result['FamilySize'])\n",
    "\n",
    "# Adjust the y-axis limit if necessary\n",
    "plt.ylim(0, 30)  \n",
    "plt.show()"
   ]
  },
  {
   "cell_type": "markdown",
   "id": "4767b0a5",
   "metadata": {},
   "source": [
    "#### The passengers having family size of 4 and 3 have the maximum chance of surviving "
   ]
  },
  {
   "cell_type": "code",
   "execution_count": 25,
   "id": "f3c43924",
   "metadata": {},
   "outputs": [],
   "source": [
    "col_to_drop = ['Parch','SibSp']\n",
    "\n",
    "dataset.drop(col_to_drop, axis=1, inplace = True)"
   ]
  },
  {
   "cell_type": "markdown",
   "id": "638331b7",
   "metadata": {},
   "source": [
    "#### Embarked "
   ]
  },
  {
   "cell_type": "code",
   "execution_count": 26,
   "id": "f58cbe7b",
   "metadata": {
    "scrolled": true
   },
   "outputs": [
    {
     "data": {
      "text/plain": [
       "S    644\n",
       "C    168\n",
       "Q     77\n",
       "Name: Embarked, dtype: int64"
      ]
     },
     "execution_count": 26,
     "metadata": {},
     "output_type": "execute_result"
    }
   ],
   "source": [
    "dataset[\"Embarked\"].value_counts()"
   ]
  },
  {
   "cell_type": "code",
   "execution_count": 27,
   "id": "5e68c50c",
   "metadata": {},
   "outputs": [],
   "source": [
    "#Fill Embarked with 'S' i.e. the most frequent values\n",
    "dataset[\"Embarked\"] = dataset[\"Embarked\"].fillna(\"S\")"
   ]
  },
  {
   "cell_type": "code",
   "execution_count": 28,
   "id": "d107b410",
   "metadata": {},
   "outputs": [
    {
     "data": {
      "image/png": "[encoded data removed]",
      "text/plain": [
       "<Figure size 800x800 with 1 Axes>"
      ]
     },
     "metadata": {},
     "output_type": "display_data"
    }
   ],
   "source": [
    "res = sns.catplot(x=\"Embarked\", y=\"Survived\", data=dataset, height=8, kind=\"bar\")\n",
    "res= res.set_ylabels(\"survival probability\")"
   ]
  },
  {
   "cell_type": "markdown",
   "id": "9396c61e",
   "metadata": {},
   "source": [
    "#### Passenger coming from Cherbourg (C) have more chance to survive"
   ]
  },
  {
   "cell_type": "markdown",
   "id": "3b045057",
   "metadata": {},
   "source": [
    "### Encoding the categorical variable"
   ]
  },
  {
   "cell_type": "code",
   "execution_count": 30,
   "id": "859ed344",
   "metadata": {},
   "outputs": [
    {
     "name": "stdout",
     "output_type": "stream",
     "text": [
      "Categorical Columns:\n",
      " ['Sex', 'Embarked']\n"
     ]
    }
   ],
   "source": [
    "categorical_columns = dataset.select_dtypes(include=['object', 'category']).columns.tolist()\n",
    "print(\"Categorical Columns:\\n\", categorical_columns)"
   ]
  },
  {
   "cell_type": "code",
   "execution_count": 31,
   "id": "57a39c1c",
   "metadata": {},
   "outputs": [],
   "source": [
    "# encoding the categorical features in our dataset\n",
    "\n",
    "ports = {\"S\": 0, \"C\": 1, \"Q\": 2}\n",
    "\n",
    "dataset['Embarked'] = dataset['Embarked'].map(ports)\n",
    "\n",
    "genders = {\"male\": 0, \"female\": 1}\n",
    "\n",
    "dataset['Sex'] = dataset['Sex'].map(genders)\n",
    "\n"
   ]
  },
  {
   "cell_type": "markdown",
   "id": "f55f1fef",
   "metadata": {},
   "source": [
    "### Splitting dataset into training and testing"
   ]
  },
  {
   "cell_type": "code",
   "execution_count": 32,
   "id": "206184b4",
   "metadata": {},
   "outputs": [],
   "source": [
    "# input and output data\n",
    "\n",
    "x = dataset.drop(dataset.columns[[0]], axis = 1)\n",
    "y = dataset['Survived']"
   ]
  },
  {
   "cell_type": "code",
   "execution_count": 33,
   "id": "41fa3926",
   "metadata": {},
   "outputs": [
    {
     "data": {
      "text/html": [
       "<div>\n",
       "<style scoped>\n",
       "    .dataframe tbody tr th:only-of-type {\n",
       "        vertical-align: middle;\n",
       "    }\n",
       "\n",
       "    .dataframe tbody tr th {\n",
       "        vertical-align: top;\n",
       "    }\n",
       "\n",
       "    .dataframe thead th {\n",
       "        text-align: right;\n",
       "    }\n",
       "</style>\n",
       "<table border=\"1\" class=\"dataframe\">\n",
       "  <thead>\n",
       "    <tr style=\"text-align: right;\">\n",
       "      <th></th>\n",
       "      <th>Pclass</th>\n",
       "      <th>Sex</th>\n",
       "      <th>Age</th>\n",
       "      <th>Fare</th>\n",
       "      <th>Embarked</th>\n",
       "      <th>FamilySize</th>\n",
       "    </tr>\n",
       "  </thead>\n",
       "  <tbody>\n",
       "    <tr>\n",
       "      <th>0</th>\n",
       "      <td>3</td>\n",
       "      <td>0</td>\n",
       "      <td>22.0</td>\n",
       "      <td>7</td>\n",
       "      <td>0</td>\n",
       "      <td>2</td>\n",
       "    </tr>\n",
       "    <tr>\n",
       "      <th>1</th>\n",
       "      <td>1</td>\n",
       "      <td>1</td>\n",
       "      <td>38.0</td>\n",
       "      <td>71</td>\n",
       "      <td>1</td>\n",
       "      <td>2</td>\n",
       "    </tr>\n",
       "    <tr>\n",
       "      <th>2</th>\n",
       "      <td>3</td>\n",
       "      <td>1</td>\n",
       "      <td>26.0</td>\n",
       "      <td>7</td>\n",
       "      <td>0</td>\n",
       "      <td>1</td>\n",
       "    </tr>\n",
       "    <tr>\n",
       "      <th>3</th>\n",
       "      <td>1</td>\n",
       "      <td>1</td>\n",
       "      <td>35.0</td>\n",
       "      <td>53</td>\n",
       "      <td>0</td>\n",
       "      <td>2</td>\n",
       "    </tr>\n",
       "    <tr>\n",
       "      <th>4</th>\n",
       "      <td>3</td>\n",
       "      <td>0</td>\n",
       "      <td>35.0</td>\n",
       "      <td>8</td>\n",
       "      <td>0</td>\n",
       "      <td>1</td>\n",
       "    </tr>\n",
       "  </tbody>\n",
       "</table>\n",
       "</div>"
      ],
      "text/plain": [
       "   Pclass  Sex   Age  Fare  Embarked  FamilySize\n",
       "0       3    0  22.0     7         0           2\n",
       "1       1    1  38.0    71         1           2\n",
       "2       3    1  26.0     7         0           1\n",
       "3       1    1  35.0    53         0           2\n",
       "4       3    0  35.0     8         0           1"
      ]
     },
     "execution_count": 33,
     "metadata": {},
     "output_type": "execute_result"
    }
   ],
   "source": [
    "x.head()"
   ]
  },
  {
   "cell_type": "code",
   "execution_count": 34,
   "id": "68ef7280",
   "metadata": {},
   "outputs": [
    {
     "data": {
      "text/plain": [
       "0    0\n",
       "1    1\n",
       "2    1\n",
       "3    1\n",
       "4    0\n",
       "Name: Survived, dtype: int64"
      ]
     },
     "execution_count": 34,
     "metadata": {},
     "output_type": "execute_result"
    }
   ],
   "source": [
    "y.head()"
   ]
  },
  {
   "cell_type": "code",
   "execution_count": 35,
   "id": "6f768c98",
   "metadata": {},
   "outputs": [],
   "source": [
    "# splitting into training and testing data\n",
    "from sklearn.model_selection import train_test_split\n",
    "\n",
    "xtrain, xtest, ytrain, ytest = train_test_split(x, y, test_size = 0.30, random_state =42)"
   ]
  },
  {
   "cell_type": "markdown",
   "id": "a75482f5",
   "metadata": {},
   "source": [
    "### Feature Scaling "
   ]
  },
  {
   "cell_type": "code",
   "execution_count": 36,
   "id": "ec1a6ce9",
   "metadata": {},
   "outputs": [],
   "source": [
    "from sklearn.preprocessing import StandardScaler\n",
    "sc_x = StandardScaler()\n",
    "xtrain = sc_x.fit_transform(xtrain) \n",
    "xtest = sc_x.transform(xtest)"
   ]
  },
  {
   "cell_type": "markdown",
   "id": "dd037945",
   "metadata": {},
   "source": [
    "### Fitting ML models "
   ]
  },
  {
   "cell_type": "code",
   "execution_count": 37,
   "id": "5dc095c2",
   "metadata": {},
   "outputs": [],
   "source": [
    "# Logistic Regression\n",
    "\n",
    "logreg = LogisticRegression()\n",
    "logreg.fit(xtrain, ytrain)\n",
    "logreg_ypred = logreg.predict(xtest)\n",
    "\n",
    "\n",
    "# Support Vector Machine classifier\n",
    "svc_classifier = SVC()\n",
    "svc_classifier.fit(xtrain, ytrain)\n",
    "svc_classifier_ypred = svc_classifier.predict(xtest)\n",
    "\n",
    "\n",
    "# Decision Tree classifier\n",
    "dt_classifier = DecisionTreeClassifier()\n",
    "dt_classifier.fit(xtrain, ytrain)\n",
    "dt_classifier_ypred = dt_classifier.predict(xtest)\n",
    "\n",
    "\n",
    "# KNN classifier\n",
    "knn_classifier = KNeighborsClassifier(5)\n",
    "knn_classifier.fit(xtrain, ytrain)\n",
    "knn_classifier_ypred = knn_classifier.predict(xtest)\n",
    "\n",
    "\n",
    "# Random Forest classifier\n",
    "rf_classifier = RandomForestClassifier(n_estimators=1000, criterion = 'entropy', random_state = 42 )\n",
    "rf_classifier.fit(xtrain, ytrain)\n",
    "rf_classifier_ypred = rf_classifier.predict(xtest)\n",
    "\n",
    "\n",
    "# Gaussian Naive Bayes \n",
    "gaussian = GaussianNB()\n",
    "gaussian.fit(xtrain,ytrain)\n",
    "gaussian_ypred=gaussian.predict(xtest)\n"
   ]
  },
  {
   "cell_type": "markdown",
   "id": "6ae9c4fc",
   "metadata": {},
   "source": [
    "#### Accuracy score "
   ]
  },
  {
   "cell_type": "code",
   "execution_count": 38,
   "id": "b0ccd088",
   "metadata": {},
   "outputs": [],
   "source": [
    "\n",
    "from sklearn.metrics import accuracy_score\n",
    "\n",
    "logreg_acc = accuracy_score(ytest, logreg_ypred)\n",
    "svc_classifier_acc = accuracy_score(ytest, svc_classifier_ypred)\n",
    "dt_classifier_acc = accuracy_score(ytest, dt_classifier_ypred)\n",
    "knn_classifier_acc = accuracy_score(ytest, knn_classifier_ypred)\n",
    "rf_classifier_acc = accuracy_score(ytest, rf_classifier_ypred)\n",
    "gaussian_acc=accuracy_score(ytest,gaussian_ypred)\n"
   ]
  },
  {
   "cell_type": "code",
   "execution_count": 39,
   "id": "50a3353b",
   "metadata": {},
   "outputs": [
    {
     "name": "stdout",
     "output_type": "stream",
     "text": [
      "Logistic Regression  :  80.97\n",
      "Support Vector       :  79.851\n",
      "Decision Tree        :  80.597\n",
      "K-NN Classifier      :  77.612\n",
      "Random Forest        :  79.478\n",
      "Gaussian Naive Bayes :  79.851\n"
     ]
    }
   ],
   "source": [
    "print (\"Logistic Regression  : \", round(logreg_acc*100, 3))\n",
    "print (\"Support Vector       : \", round(svc_classifier_acc*100, 3))\n",
    "print (\"Decision Tree        : \", round(dt_classifier_acc*100, 3))\n",
    "print (\"K-NN Classifier      : \", round(knn_classifier_acc*100, 3))\n",
    "print (\"Random Forest        : \", round(rf_classifier_acc*100, 3))\n",
    "print (\"Gaussian Naive Bayes : \", round(gaussian_acc*100,3))"
   ]
  },
  {
   "cell_type": "markdown",
   "id": "66e94e38",
   "metadata": {},
   "source": [
    "#### Among all the machine learning models Logistic Regression performs the best with a accuracy of 80.97 followed by Decision Tree classifier"
   ]
  }
 ],
 "metadata": {
  "kernelspec": {
   "display_name": "Python 3 (ipykernel)",
   "language": "python",
   "name": "python3"
  },
  "language_info": {
   "codemirror_mode": {
    "name": "ipython",
    "version": 3
   },
   "file_extension": ".py",
   "mimetype": "text/x-python",
   "name": "python",
   "nbconvert_exporter": "python",
   "pygments_lexer": "ipython3",
   "version": "3.10.9"
  },
  "varInspector": {
   "cols": {
    "lenName": 16,
    "lenType": 16,
    "lenVar": 40
   },
   "kernels_config": {
    "python": {
     "delete_cmd_postfix": "",
     "delete_cmd_prefix": "del ",
     "library": "var_list.py",
     "varRefreshCmd": "print(var_dic_list())"
    },
    "r": {
     "delete_cmd_postfix": ") ",
     "delete_cmd_prefix": "rm(",
     "library": "var_list.r",
     "varRefreshCmd": "cat(var_dic_list()) "
    }
   },
   "types_to_exclude": [
    "module",
    "function",
    "builtin_function_or_method",
    "instance",
    "_Feature"
   ],
   "window_display": false
  }
 },
 "nbformat": 4,
 "nbformat_minor": 5
}
